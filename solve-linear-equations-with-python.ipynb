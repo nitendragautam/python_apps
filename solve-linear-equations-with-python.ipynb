{
 "cells": [
  {
   "cell_type": "markdown",
   "metadata": {},
   "source": [
    "## Solving Linear equations with Python \n",
    "\n",
    "This notebook shows the way to solve linear equations problem with Python numpy library to find the values of x and y .\n",
    "\n",
    "```\n",
    "3x -9y =-42\n",
    "2x + 4y = 2\n",
    "```\n",
    "\n",
    "Let Z be array of x and y.\n",
    "```\n",
    "z = inverse(A) * b\n",
    "\n",
    "Where \n",
    "A = ([[3,-9],[2,4]])\n",
    "Z= ([x,y])\n",
    "b= ([-42,4])\n",
    "```\n",
    "\n"
   ]
  },
  {
   "cell_type": "code",
   "execution_count": 12,
   "metadata": {},
   "outputs": [
    {
     "name": "stdout",
     "output_type": "stream",
     "text": [
      "Array A [[ 3 -9]\n",
      " [ 2  4]] \n",
      "\n",
      "Array B [-42   2] \n",
      "\n",
      "Valye of x and y \n"
     ]
    }
   ],
   "source": [
    "import numpy as np\n",
    "\n",
    "#Assign Array A\n",
    "A = np.array([[3,-9],[2,4]])\n",
    "\n",
    "print(\"Array A {0} \\n\".format(A))\n",
    "\n",
    "# Assign Array B\n",
    "b = np.array([-42,2])\n",
    "print(\"Array B {0} \\n\".format(B))\n",
    "\n",
    "# Use numpy linear Algebra function to solve functions\n",
    "z = np.linalg.solve(A,b)\n",
    "\n",
    "# Print the result\n",
    "print(\"Value of x and y \".format(z))"
   ]
  },
  {
   "cell_type": "markdown",
   "metadata": {},
   "source": [
    "Now we will see how we can use this library to solve linear equations problems for 3 variables \n",
    "\n",
    "```\n",
    "x - 2y - z = 6\n",
    "2x + 2y - z = 1\n",
    "-x - y + 2z = 1\n",
    "```"
   ]
  },
  {
   "cell_type": "code",
   "execution_count": 16,
   "metadata": {},
   "outputs": [
    {
     "name": "stdout",
     "output_type": "stream",
     "text": [
      "[[ 1 -2 -1]\n",
      " [ 2  2 -1]\n",
      " [-1 -1  2]]\n",
      "[6 1 1]\n",
      "Result Value [ 3. -2.  1.]\n"
     ]
    }
   ],
   "source": [
    "import numpy as np\n",
    "\n",
    "#Array a1\n",
    "a1 = np.array([[1,-2,-1],[2,2,-1],[-1,-1,+2]])\n",
    "\n",
    "#print a1\n",
    "print(a1)\n",
    "\n",
    "# Array b1\n",
    "b1 = np.array([6,1,1])\n",
    "print(b1)\n",
    "\n",
    "#Using numpy linear Algebra library to solve this functions\n",
    "z1 = np.linalg.solve(a1,b1)\n",
    "\n",
    "#Print the result \n",
    "print(\"Result Value {0}\".format(z1))"
   ]
  }
 ],
 "metadata": {
  "kernelspec": {
   "display_name": "Python 3",
   "language": "python",
   "name": "python3"
  },
  "language_info": {
   "codemirror_mode": {
    "name": "ipython",
    "version": 3
   },
   "file_extension": ".py",
   "mimetype": "text/x-python",
   "name": "python",
   "nbconvert_exporter": "python",
   "pygments_lexer": "ipython3",
   "version": "3.4.3"
  }
 },
 "nbformat": 4,
 "nbformat_minor": 2
}
