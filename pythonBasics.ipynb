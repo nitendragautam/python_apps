{
 "cells": [
  {
   "cell_type": "markdown",
   "metadata": {},
   "source": [
    "# Data Types in Python \n",
    "We can have different types in python .\n",
    "Words are called characters and numbers can be Integer or floats.\n",
    "\n",
    "## Integers\n",
    "\n",
    "Integers can be negative or Positive\n",
    "\n",
    "## Floats\n",
    "Floats are real numbers which includes the integers but also \"numbers in-between the integers\"\n",
    "\n",
    "## Boolean\n",
    "Boolean types takes true or False\n"
   ]
  },
  {
   "cell_type": "code",
   "execution_count": 69,
   "metadata": {},
   "outputs": [
    {
     "name": "stdout",
     "output_type": "stream",
     "text": [
      "<class 'int'>\n",
      "<class 'float'>\n",
      "<class 'str'>\n",
      "<class 'bool'>\n"
     ]
    }
   ],
   "source": [
    "# Data types in Python \n",
    "print(type(12)) # Int type\n",
    "\n",
    "print(type(12.5)) #  Float Type\n",
    "\n",
    "print(type(\"Hello\")) # Type String\n",
    "\n",
    "print(type(True)) # Type Boolean\n",
    "\n"
   ]
  },
  {
   "cell_type": "markdown",
   "metadata": {},
   "source": [
    "# Type Conversion\n",
    "\n",
    "Process of converting the type of one expression into another is known as casting \n",
    "In Python we can change the type of the expression in Python \n",
    "\n",
    "*  convert or cast the integer float\n",
    "\n",
    "If we cast a Boolean true to an integer or float we will get a 1, if we cast a Boolean false to an integer or float. \n",
    "If we get a zero if you cast a 1 to a boolean, you get a true similarly, if you cast a 0 to a Boolean you get a false."
   ]
  },
  {
   "cell_type": "code",
   "execution_count": 12,
   "metadata": {},
   "outputs": [
    {
     "name": "stdout",
     "output_type": "stream",
     "text": [
      "1\n",
      "1\n",
      "False\n",
      "1.0\n",
      "0\n"
     ]
    }
   ],
   "source": [
    "# Cast float to Integer\n",
    "print(int(1.1))\n",
    "\n",
    "# convert string to Integer\n",
    "print(int('1')) #We can do this as 1 is a integer type\n",
    "\n",
    "# Cannot do this as \"A\" cannot be cast to Integer\n",
    "# print(int(\"A\")) \n",
    "\n",
    "# Convert int to String\n",
    "str(1)\n",
    "\n",
    "# Convert Float to String\n",
    "str(1.32)\n",
    "\n",
    "bool(1) # Casting 1 to boolean\n",
    "\n",
    "print(bool(0)) # Casting  to boolean\n",
    "\n",
    "print(float(True)) # Casting boolean to float\n",
    "\n",
    "print(int(False))"
   ]
  },
  {
   "cell_type": "markdown",
   "metadata": {},
   "source": [
    "# Operations in Python\n",
    "\n",
    "* addition: 2 + 2\n",
    "* subtraction: 5 - 2\n",
    "* multiplication: 3 * 2\n",
    "* division: 4 / 2\n",
    "* exponentiation: 4 ** 2\n",
    "* division with rounded result : 5//2"
   ]
  },
  {
   "cell_type": "code",
   "execution_count": 14,
   "metadata": {},
   "outputs": [
    {
     "name": "stdout",
     "output_type": "stream",
     "text": [
      "2\n",
      "2.5\n"
     ]
    }
   ],
   "source": [
    "## Divison with Rounded Results\n",
    "print(5//2)\n",
    "\n",
    "print(5/2) # Regular Division"
   ]
  },
  {
   "cell_type": "markdown",
   "metadata": {},
   "source": [
    "# Variables in Python\n",
    "\n",
    "Variables are used in Python to store values for repeated use.\n",
    "\n",
    "Here are some more characteristics of variables in Python:\n",
    "\n",
    "* variables store the output of a block of code\n",
    "* variables are typically assigned using = (as in x = 1)"
   ]
  },
  {
   "cell_type": "code",
   "execution_count": null,
   "metadata": {},
   "outputs": [],
   "source": [
    "newVariable = 3 *3\n",
    "print(newVariable)"
   ]
  },
  {
   "cell_type": "markdown",
   "metadata": {},
   "source": [
    "# Strings \n",
    "\n",
    "String in python are ```Immutable```  ordered sequence.So once we assig a String ,we cannot change its values\n",
    "Each element in the sequence can be accessed using an index represented by the array of numbers\n"
   ]
  },
  {
   "cell_type": "code",
   "execution_count": 25,
   "metadata": {},
   "outputs": [
    {
     "name": "stdout",
     "output_type": "stream",
     "text": [
      "First Index M\n",
      "Third Index l\n",
      "Length of String  15\n",
      "13th Index o\n",
      "First Value M\n",
      "Last Value n\n",
      "First four Characters Mich\n",
      "Last Four Characters Jack\n",
      " Every second Variable in String McalJcsn\n",
      "Concatenated String Michael Jackson is the best\n",
      "Michael JacksonMichael JacksonMichael Jackson\n",
      "03579\n"
     ]
    }
   ],
   "source": [
    "#Strings in Python \n",
    "cName=\"Michael Jackson\"\n",
    "print(\"First Index \"+cName[0])\n",
    "print(\"Third Index \"+cName[6])\n",
    "\n",
    "# Find the Length of String\n",
    "lengthString = len(cName)\n",
    "print(\"Length of String  \"+str(lengthString))\n",
    "\n",
    "print(\"13th Index \"+cName[13])\n",
    "\n",
    "#Using Negative Index to find String Values\n",
    "print(\"First Value \"+cName[-15])\n",
    "print(\"Last Value \" +cName[-1])\n",
    "\n",
    "\n",
    "#Slicing Strings \n",
    "\n",
    "print(\"First four Characters \"+cName[0:4])\n",
    "print(\"Last Four Characters \"+cName[8:12])\n",
    "\n",
    "\n",
    "# Select every second variables from String\n",
    "print(\" Every second Variable in String \"+cName[::2])\n",
    "\n",
    "# Concatenate the String \n",
    "concatString = cName + \" is the best\"\n",
    "print(\"Concatenated String \"+concatString)\n",
    "\n",
    "\n",
    "# Creating Tuples from String \n",
    "\n",
    "newTuple = cName * 3 # Creates a Tuple from cName by repeatimg 3 Times \n",
    "print(newTuple)\n",
    "\n",
    "xy ='023456789'\n",
    "print(xy[::2]) # Prints every 2 characters "
   ]
  },
  {
   "cell_type": "markdown",
   "metadata": {},
   "source": [
    "# Escape Sequences \n",
    "* \\ are meant to proceed escape sequences\n",
    "* escape sequences are string that are difficult to input\n",
    "* \\n represents a new line\n",
    "* \\t represents a new tab\n",
    "* To place a blackslash(\\) in the string use \\\\ \n",
    "\n"
   ]
  },
  {
   "cell_type": "code",
   "execution_count": 65,
   "metadata": {},
   "outputs": [
    {
     "name": "stdout",
     "output_type": "stream",
     "text": [
      "Michael Jackson \n",
      " is th best\n",
      "Michael Jackson \\ is the best\n",
      " MICHAEL JACKSON IS THE BEST \n",
      " Janet Jackson is the best \n",
      "-1\n",
      "6\n"
     ]
    }
   ],
   "source": [
    "# Example of Escape Sequences which splits string with new line escape sequences\n",
    "print(\"Michael Jackson \\n is th best\")\n",
    "\n",
    "# Add Back Slash to the String\n",
    "print(\"Michael Jackson \\\\ is the best\")\n",
    "\n",
    "# New line Escape Sequence example\n",
    "print(\"Python \\n is Best\")\n",
    "\n",
    "# Adding Back Slash in Python\n",
    "print(\"Python \\\\ is Best \")\n",
    "\n"
   ]
  },
  {
   "cell_type": "markdown",
   "metadata": {},
   "source": [
    "\n",
    "# String methods\n",
    "* upper() converts string to upper case\n",
    "* replace() replaces the method \n",
    "* find(search parameters) is used to find specific sub string "
   ]
  },
  {
   "cell_type": "code",
   "execution_count": 16,
   "metadata": {},
   "outputs": [
    {
     "name": "stdout",
     "output_type": "stream",
     "text": [
      " MICHAEL JACKSON IS THE BEST \n",
      " Janet Jackson is the best \n",
      "-1\n",
      "6\n",
      "Nitendra Gautam\n",
      "NITENDRA GAUTAM\n",
      " Lower Case nitendra gautam\n",
      "0\n"
     ]
    }
   ],
   "source": [
    "# Use of Upper in Python\n",
    "A =\" Michael Jackson is the best \"\n",
    "B = A.upper()\n",
    "print(B)\n",
    "\n",
    "# replace method\n",
    "C= A.replace(\"Michael\",\"Janet\")\n",
    "print(C)\n",
    "\n",
    "#Using Find method to search for String \n",
    "print(A.find(\"Janet\"))# Since Janet is not in A ,it will give -1\n",
    "print(A.find(\"el\")) # It is able to find \"el\" in the given String\n",
    "\n",
    "fullName = \"Nitendra Gautam\"\n",
    "\n",
    "print(fullName)\n",
    "\n",
    "\n",
    "\n",
    "#Upper Case\n",
    "upperCaseName = fullName.upper()\n",
    "print(upperCaseName)\n",
    "\n",
    "#LowerCase\n",
    "print(\" Lower Case \"+fullName.lower())\n",
    "\n",
    "# Finding Subs String \n",
    "myName = \"Nitendra Gautam\"\n",
    "print(myName.find('Nitendra Gautam'))\n"
   ]
  }
 ],
 "metadata": {
  "kernelspec": {
   "display_name": "Python 3",
   "language": "python",
   "name": "python3"
  },
  "language_info": {
   "codemirror_mode": {
    "name": "ipython",
    "version": 3
   },
   "file_extension": ".py",
   "mimetype": "text/x-python",
   "name": "python",
   "nbconvert_exporter": "python",
   "pygments_lexer": "ipython3",
   "version": "3.4.3"
  }
 },
 "nbformat": 4,
 "nbformat_minor": 2
}
