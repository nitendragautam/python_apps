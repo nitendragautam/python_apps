{
 "cells": [
  {
   "cell_type": "markdown",
   "metadata": {},
   "source": [
    "## Optimization problem \n",
    "\n",
    "The goal of optimization is to find the best solution to a problem out of a large set of possible solutions. Here's an example. Suppose that a shipping company delivers packages to its customers using a fleet of trucks. Every day, the company must assign packages to trucks, and then a choose a route for each truck to deliver its packages. Each possible assignment of packages and routes has a cost, based on the total travel distance for the trucks, and possibly other factors as well. The problem is to choose the assignments of packages and routes that has the least cost.\n",
    "\n",
    "Like all optimization problems, this problem has the following elements:\n",
    "\n",
    "* The objective — the quantity you want to optimize. In the example above, the objective is to minimize cost. To set up an optimization problem, you need to define a function that calculates the value of the objective for any possible solution. This is called the objective function. In the preceding example, the objective function would calculate the total cost of any assignment of packages and routes.\n",
    "\n",
    "An optimal solution is one for which the value of the objective function is the best. (\"Best\" will be either a maximum or a minimum, depending on the problem statement.)\n",
    "\n",
    "* The constraints — restrictions on the set of possible solutions, based on the specific requirements of the problem. For example, if the shipping company can't assign packages above a given size to certain trucks, due to space limitations, this would impose a constraint on the solutions. A feasible solution is one that satisfies all the given constraints for the problem.\n",
    "The first step in solving an optimization problem is identifying the objective and constraints."
   ]
  },
  {
   "cell_type": "code",
   "execution_count": null,
   "metadata": {},
   "outputs": [],
   "source": []
  },
  {
   "cell_type": "markdown",
   "metadata": {},
   "source": [
    "## References\n",
    "[Google Linear Solver](https://developers.google.com/optimization/lp)\n",
    "[Using OR Tools](https://developers.google.com/optimization/introduction/using)"
   ]
  },
  {
   "cell_type": "code",
   "execution_count": null,
   "metadata": {},
   "outputs": [],
   "source": []
  }
 ],
 "metadata": {
  "kernelspec": {
   "display_name": "Python 3",
   "language": "python",
   "name": "python3"
  },
  "language_info": {
   "codemirror_mode": {
    "name": "ipython",
    "version": 3
   },
   "file_extension": ".py",
   "mimetype": "text/x-python",
   "name": "python",
   "nbconvert_exporter": "python",
   "pygments_lexer": "ipython3",
   "version": "3.4.3"
  }
 },
 "nbformat": 4,
 "nbformat_minor": 2
}
